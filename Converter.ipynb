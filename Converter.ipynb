{
  "nbformat": 4,
  "nbformat_minor": 0,
  "metadata": {
    "colab": {
      "name": "Converter.ipynb",
      "provenance": [],
      "collapsed_sections": [],
      "private_outputs": true
    },
    "kernelspec": {
      "name": "python3",
      "display_name": "Python 3"
    },
    "language_info": {
      "name": "python"
    }
  },
  "cells": [
    {
      "cell_type": "code",
      "execution_count": null,
      "metadata": {
        "id": "MQwFYPuOrRHq"
      },
      "outputs": [],
      "source": [
        "from google.colab import drive\n",
        "drive.mount(\"/content/drive\")"
      ]
    },
    {
      "cell_type": "code",
      "source": [
        "!pip install SimpleITK\n",
        "!pip install xlsxwriter"
      ],
      "metadata": {
        "id": "X1d5QTdJtD28"
      },
      "execution_count": null,
      "outputs": []
    },
    {
      "cell_type": "code",
      "source": [
        "import os\n",
        "import SimpleITK as sitk\n",
        "from keras.preprocessing.image import save_img\n",
        "import cv2\n",
        "from matplotlib import pyplot as plt\n",
        "import numpy as np\n",
        "import sys\n",
        "\n",
        "import pandas as pd\n",
        "import re\n",
        "import matplotlib.pyplot as plt\n",
        "import matplotlib.gridspec as gridspec\n",
        "import matplotlib.pylab as pylab\n",
        "\n",
        "import matplotlib\n",
        "import matplotlib.pyplot as plt\n",
        "import matplotlib.gridspec as gridspec\n",
        "import matplotlib\n",
        "from skimage import img_as_float,color\n",
        "from skimage.io import imsave\n",
        "from skimage.exposure import adjust_gamma\n",
        "from sklearn.preprocessing import MultiLabelBinarizer"
      ],
      "metadata": {
        "id": "5n0CFcIqunuw"
      },
      "execution_count": null,
      "outputs": []
    },
    {
      "cell_type": "code",
      "source": [
        "PATH_GT = \"/content/drive/MyDrive/gt\"  #path to the gt folder containing all the annotated .nii.gz files\n",
        "PATH_DATA = \"/content/drive/MyDrive/data\" #path to the data folder containing all the raw HRCT scans of .nii.gz files"
      ],
      "metadata": {
        "id": "AruHNmQdv-KF"
      },
      "execution_count": null,
      "outputs": []
    },
    {
      "cell_type": "code",
      "source": [
        "fileList_GT = []\n",
        "for root, dirs, files in os.walk(PATH_GT):\n",
        "  for filename in files:\n",
        "    fileList_GT.append(filename)"
      ],
      "metadata": {
        "id": "wkVpx1DEwLBr"
      },
      "execution_count": null,
      "outputs": []
    },
    {
      "cell_type": "code",
      "source": [
        "fileList_DATA = []\n",
        "for root, dirs, files in os.walk(PATH_DATA):\n",
        "  for filename in files:\n",
        "    fileList_DATA.append(filename)"
      ],
      "metadata": {
        "id": "1_zR9dMdJ9Sa"
      },
      "execution_count": null,
      "outputs": []
    },
    {
      "cell_type": "code",
      "source": [
        "filePaths_GT = []\n",
        "for files in fileList_GT:\n",
        "  paths = os.path.join(PATH_GT,files)\n",
        "  filePaths_GT.append(paths)\n",
        "  "
      ],
      "metadata": {
        "id": "vWhFVkOk8uT5"
      },
      "execution_count": null,
      "outputs": []
    },
    {
      "cell_type": "code",
      "source": [
        "filePaths_DATA = []\n",
        "for files in fileList_DATA:\n",
        "  paths = os.path.join(PATH_DATA,files)\n",
        "  filePaths_DATA.append(paths)"
      ],
      "metadata": {
        "id": "ra6C-hokKOYT"
      },
      "execution_count": null,
      "outputs": []
    },
    {
      "cell_type": "code",
      "source": [
        "print(len(filePaths_DATA))"
      ],
      "metadata": {
        "id": "xa8S3yGvqT1l"
      },
      "execution_count": null,
      "outputs": []
    },
    {
      "cell_type": "code",
      "source": [
        "def readImage_GT(path):\n",
        "    inputImage = sitk.ReadImage(path)\n",
        "    image = sitk.GetArrayFromImage(inputImage)\n",
        "\n",
        "    n_z = image.shape[0]\n",
        "    n_x = image.shape[1]\n",
        "    n_y = image.shape[2]\n",
        "\n",
        "    volume=np.zeros((n_z,n_x,n_y,3),dtype=np.float32)\n",
        "\n",
        "    red_multiplier = [255, 0,0]\n",
        "    blue_multiplier = [0,160,255]\n",
        "    yellow_multiplier=[255,255,128]\n",
        "    black_multiplier = [0,0,0]\n",
        "\n",
        "    for i in range(n_z):\n",
        "        blue = np.argwhere(image[i,:,:]==4)\n",
        "        yellow = np.argwhere(image[i,:,:]==5)\n",
        "        red = np.argwhere(image[i,:,:]==7)\n",
        "        black = np.argwhere(image[i,:,:]==0)\n",
        "\n",
        "        gray_img = img_as_float(image[i,:,:]/image[i,:,:].max())\n",
        "        imagee=adjust_gamma(color.gray2rgb(gray_img),0.45)\n",
        "\n",
        "\n",
        "        for j in range(len(blue)):\n",
        "            imagee[blue[j][0]][blue[j][1]]=blue_multiplier \n",
        "        \n",
        "        for j in range(len(yellow)):\n",
        "            imagee[yellow[j][0]][yellow[j][1]]=yellow_multiplier \n",
        "\n",
        "        for j in range(len(red)):\n",
        "            imagee[red[j][0]][red[j][1]]=red_multiplier\n",
        "\n",
        "\n",
        "        for j in range(len(black)):\n",
        "            imagee[black[j][0]][black[j][1]]=black_multiplier\n",
        "\n",
        "        volume[i,:,:]=imagee\n",
        "\n",
        "    return volume"
      ],
      "metadata": {
        "id": "FhDhtG0hNqUC"
      },
      "execution_count": null,
      "outputs": []
    },
    {
      "cell_type": "code",
      "source": [
        "def readImage_DATA(path):\n",
        "    inputImage = sitk.ReadImage(path)\n",
        "    image = sitk.GetArrayFromImage(inputImage)\n",
        "    return image"
      ],
      "metadata": {
        "id": "zBCa1xg5EvHz"
      },
      "execution_count": null,
      "outputs": []
    },
    {
      "cell_type": "code",
      "source": [
        "PATH_PNG_GT  = os.path.join(PATH_GT,'png')\n",
        "os.mkdir(PATH_PNG_GT)"
      ],
      "metadata": {
        "id": "BcDxxJZbRc3i"
      },
      "execution_count": null,
      "outputs": []
    },
    {
      "cell_type": "code",
      "source": [
        "PATH_PNG_DATA  = os.path.join(PATH_DATA,'png')\n",
        "os.mkdir(PATH_PNG_DATA)"
      ],
      "metadata": {
        "id": "0HIf2e5nLdIq"
      },
      "execution_count": null,
      "outputs": []
    },
    {
      "cell_type": "code",
      "source": [
        "for paths in filePaths_GT:\n",
        "  original_fileName=os.path.basename(paths).replace('.nii.gz','')\n",
        "  PATH_PATIENT = os.path.join(PATH_PNG_GT,original_fileName)\n",
        "  os.mkdir(PATH_PATIENT)\n",
        "  image_seg = readImage_GT(paths)\n",
        "  for j in range(image_seg.shape[0]):\n",
        "    save_img(os.path.join(PATH_PATIENT,original_fileName+'_slice_'+str(j+1)+'.png'),image_seg[j,:,:])"
      ],
      "metadata": {
        "id": "sUt_DuIbyXZZ"
      },
      "execution_count": null,
      "outputs": []
    },
    {
      "cell_type": "code",
      "source": [
        "print(len(filePaths_DATA))"
      ],
      "metadata": {
        "id": "QEJStwfigonF"
      },
      "execution_count": null,
      "outputs": []
    },
    {
      "cell_type": "code",
      "source": [
        "for paths in filePaths_DATA:\n",
        "  original_fileName=os.path.basename(paths).replace('.nii.gz','')\n",
        "  PATH_PATIENT = os.path.join(PATH_PNG_DATA,original_fileName)\n",
        "  os.mkdir(PATH_PATIENT)\n",
        "  image_seg = readImage_DATA(paths)\n",
        "  for j in range(image_seg.shape[0]):\n",
        "    matplotlib.image.imsave(os.path.join(PATH_PATIENT,original_fileName+'_slice_'+str(j+1)+'.png'),image_seg[j,:,:],cmap = \"gray\")"
      ],
      "metadata": {
        "id": "-jbujzh7Lj8Z"
      },
      "execution_count": null,
      "outputs": []
    },
    {
      "cell_type": "code",
      "source": [
        "in  putImage = sitk.ReadImage(filePaths_GT[4])\n",
        "image = sitk.GetArrayFromImage(inputImage)\n",
        "print(image.shape)"
      ],
      "metadata": {
        "id": "hLEuYS1aHRLY"
      },
      "execution_count": null,
      "outputs": []
    }
  ]
}