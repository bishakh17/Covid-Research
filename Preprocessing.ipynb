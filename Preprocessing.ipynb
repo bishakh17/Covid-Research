{
  "cells": [
    {
      "cell_type": "code",
      "execution_count": null,
      "metadata": {
        "colab": {
          "base_uri": "https://localhost:8080/"
        },
        "id": "B9v2OxanMlE4",
        "outputId": "d02b64b9-699d-4b23-a55c-7a74c9d11e64"
      },
      "outputs": [
        {
          "output_type": "stream",
          "name": "stdout",
          "text": [
            "Mounted at /content/drive\n"
          ]
        }
      ],
      "source": [
        "from google.colab import drive\n",
        "drive.mount(\"/content/drive\")"
      ]
    },
    {
      "cell_type": "code",
      "execution_count": null,
      "metadata": {
        "colab": {
          "base_uri": "https://localhost:8080/"
        },
        "id": "ge-PybR2N5Ll",
        "outputId": "2f7ed4cb-72be-4a72-95a1-a4aad587805d"
      },
      "outputs": [
        {
          "output_type": "stream",
          "name": "stdout",
          "text": [
            "Looking in indexes: https://pypi.org/simple, https://us-python.pkg.dev/colab-wheels/public/simple/\n",
            "Collecting SimpleITK\n",
            "  Downloading SimpleITK-2.1.1.2-cp37-cp37m-manylinux_2_12_x86_64.manylinux2010_x86_64.whl (48.4 MB)\n",
            "\u001b[K     |████████████████████████████████| 48.4 MB 24 kB/s \n",
            "\u001b[?25hInstalling collected packages: SimpleITK\n",
            "Successfully installed SimpleITK-2.1.1.2\n",
            "Looking in indexes: https://pypi.org/simple, https://us-python.pkg.dev/colab-wheels/public/simple/\n",
            "Collecting xlsxwriter\n",
            "  Downloading XlsxWriter-3.0.3-py3-none-any.whl (149 kB)\n",
            "\u001b[K     |████████████████████████████████| 149 kB 5.1 MB/s \n",
            "\u001b[?25hInstalling collected packages: xlsxwriter\n",
            "Successfully installed xlsxwriter-3.0.3\n"
          ]
        }
      ],
      "source": [
        "!pip install SimpleITK\n",
        "!pip install xlsxwriter"
      ]
    },
    {
      "cell_type": "code",
      "execution_count": null,
      "metadata": {
        "id": "I2FNP6KJIsZW"
      },
      "outputs": [],
      "source": [
        "import matplotlib.pyplot as plt\n",
        "import cv2\n",
        "import os\n",
        "import SimpleITK as sitk\n",
        "from PIL import Image"
      ]
    },
    {
      "cell_type": "code",
      "execution_count": null,
      "metadata": {
        "id": "TdsQPegoJpLO"
      },
      "outputs": [],
      "source": [
        "PATH_GT = \"/content/drive/MyDrive/gt/png\"  \n",
        "PATH_DATA = \"/content/drive/MyDrive/data/png\""
      ]
    },
    {
      "cell_type": "code",
      "execution_count": null,
      "metadata": {
        "id": "B98JwUPB1XdA"
      },
      "outputs": [],
      "source": [
        "dirList_GT = []\n",
        "for root, dirs, files in os.walk(PATH_GT):\n",
        "  for dirname in dirs:\n",
        "    dirList_GT.append(dirname)"
      ]
    },
    {
      "cell_type": "code",
      "execution_count": null,
      "metadata": {
        "id": "TiL03BMSmLmy"
      },
      "outputs": [],
      "source": [
        "dirList_DATA = []\n",
        "for root, dirs, files in os.walk(PATH_DATA):\n",
        "  for dirname in dirs:\n",
        "    dirList_DATA.append(dirname)"
      ]
    },
    {
      "cell_type": "code",
      "execution_count": null,
      "metadata": {
        "id": "U0l2LgFfmf7E"
      },
      "outputs": [],
      "source": [
        "dirList_DATA.sort()\n",
        "dirList_GT.sort()\n"
      ]
    },
    {
      "cell_type": "code",
      "execution_count": null,
      "metadata": {
        "id": "VVk1cmHqo4cM"
      },
      "outputs": [],
      "source": [
        "PATH_GT_CROPPED = os.path.join(PATH_GT,\"Cropped\")\n",
        "PATH_DATA_CROPPED = os.path.join(PATH_DATA,\"Cropped\")\n",
        "# os.mkdir(PATH_GT_CROPPED)\n",
        "# os.mkdir(PATH_DATA_CROPPED)"
      ]
    },
    {
      "cell_type": "code",
      "execution_count": null,
      "metadata": {
        "id": "B6YNvL1qMhqS"
      },
      "outputs": [],
      "source": [
        "def getcolordict(im):\n",
        "    w,h = im.size\n",
        "    colors = im.getcolors(w*h)\n",
        "    colordict = { x[1]:x[0] for x in colors }\n",
        "    return colordict\n",
        "\n",
        "def percent(image):\n",
        "    # image = Image.open(im)\n",
        "    colordict = getcolordict(image)\n",
        "    black_pixels_count = colordict.get((0,0,0))\n",
        "    red_pixels_count = colordict.get((255,0,0))\n",
        "    blue_pixels_count = colordict.get((0,160,255))\n",
        "    yellow_pixels_count = colordict.get((255,255,128))\n",
        "    if(black_pixels_count is None):\n",
        "      black_pixels_count = 0\n",
        "    if(blue_pixels_count is None):\n",
        "      blue_pixels_count = 0\n",
        "    if(red_pixels_count is None):\n",
        "      red_pixels_count = 0\n",
        "    if(yellow_pixels_count is None):\n",
        "      yellow_pixels_count = 0\n",
        "    percentage = ((red_pixels_count + yellow_pixels_count) * 100 ) / (red_pixels_count + blue_pixels_count + black_pixels_count + yellow_pixels_count)\n",
        "    return percentage"
      ]
    },
    {
      "cell_type": "code",
      "execution_count": null,
      "metadata": {
        "colab": {
          "background_save": true
        },
        "id": "th9bUp1ynObG"
      },
      "outputs": [],
      "source": [
        "count_saved = 0\n",
        "count_original = 0\n",
        "for i in range(len(dirList_DATA)):\n",
        "  path_patient_DATA = os.path.join(PATH_DATA,dirList_DATA[i])\n",
        "  path_patient_GT = os.path.join(PATH_GT,dirList_GT[i])\n",
        "\n",
        "  PATH_GT_CROPPED_PATIENT = os.path.join(PATH_GT_CROPPED,dirList_GT[i])\n",
        "  os.mkdir(PATH_GT_CROPPED_PATIENT)\n",
        "\n",
        "  PATH_DATA_CROPPED_PATIENT = os.path.join(PATH_DATA_CROPPED,dirList_DATA[i])\n",
        "  os.mkdir(PATH_DATA_CROPPED_PATIENT)\n",
        "\n",
        "\n",
        "  fileList_GT = []\n",
        "  for root, dirs, files in os.walk(path_patient_GT):\n",
        "    for filename in files:\n",
        "      fileList_GT.append(filename)\n",
        "\n",
        "  fileList_DATA = []\n",
        "  for root, dirs, files in os.walk(path_patient_DATA):\n",
        "    for filename in files:\n",
        "      fileList_DATA.append(filename)\n",
        "\n",
        "  fileList_GT.sort()\n",
        "  fileList_DATA.sort()\n",
        "  \n",
        "\n",
        "  for i in range(len(fileList_GT)):\n",
        "    filePath_GT = os.path.join(path_patient_GT,fileList_GT[i])\n",
        "    filePath_DATA = os.path.join(path_patient_DATA,fileList_DATA[i])\n",
        "\n",
        "    img_GT = Image.open(filePath_GT)\n",
        "    img_DATA = Image.open(filePath_DATA)\n",
        "    width, height = img_GT.size\n",
        "\n",
        "    box = img_GT.getbbox()\n",
        "    margins = (18,height-444,498,height-60)\n",
        "\n",
        "    if box:\n",
        "      count_original = count_original + 1\n",
        "      img_cropped_GT = img_GT.crop(margins)\n",
        "      img_cropped_DATA = img_DATA.crop(margins)\n",
        "\n",
        "      if percent(img_cropped_GT)>=4:\n",
        "        count_saved = count_saved + 1\n",
        "        img_cropped_GT.save(os.path.join(PATH_GT_CROPPED_PATIENT,fileList_GT[i]))\n",
        "        img_cropped_DATA.save(os.path.join(PATH_DATA_CROPPED_PATIENT,fileList_DATA[i]))\n",
        "    \n",
        "\n",
        "\n",
        "  \n",
        "\n",
        "\n",
        "  "
      ]
    }
  ],
  "metadata": {
    "colab": {
      "collapsed_sections": [],
      "name": "Preprocessing.ipynb",
      "provenance": []
    },
    "kernelspec": {
      "display_name": "Python 3",
      "name": "python3"
    },
    "language_info": {
      "name": "python"
    }
  },
  "nbformat": 4,
  "nbformat_minor": 0
}